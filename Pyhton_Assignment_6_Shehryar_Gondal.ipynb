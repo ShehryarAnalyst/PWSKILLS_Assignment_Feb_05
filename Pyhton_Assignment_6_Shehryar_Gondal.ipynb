{
 "cells": [
  {
   "cell_type": "markdown",
   "id": "f50544e7",
   "metadata": {},
   "source": [
    "## Assignments  Question"
   ]
  },
  {
   "cell_type": "markdown",
   "id": "62b2dac4",
   "metadata": {},
   "source": [
    "__Q1. Explain Class and Object with respect to Object-Oriented Programming. Give a suitable example.__ \n",
    "\n",
    "__Ans__) An object is simply a collection of data or methods and class is a blue of that object . Class defines the properties and behaviors that an object of that class will have.In simple words ,  a class defines what an object is, while an object represents a specific instance of a class.<br>\n",
    "__For_example:__ <br>\n",
    "A class named \"Car.\" The Car class might have properties such as make, model, year, and color, and behaviors such as accelerating, braking, and honking the horn.\n",
    "<br>\n",
    "For example, we can create two objects of the Car class, each with their own unique values <br>\n",
    "car1 = Car(\"Toyota\", \"Camry\", 2020, \"Silver\") <br>\n",
    "car2 = Car(\"Honda\", \"Civic\", 2019, \"Red\") <br>\n",
    "\n",
    "Each of these objects represents a specific instance of the Car class, with its own set of properties. We can then use these objects to interact with our program, for example, by accelerating or honking the horn."
   ]
  },
  {
   "cell_type": "markdown",
   "id": "c607afa9",
   "metadata": {},
   "source": [
    "__Q2. Name the four pillars of OOPs ?__\n",
    "\n",
    "__Ans)__ Four pillars of OOPS are :\n",
    "1. Encapsulation.\n",
    "2. Abstraction.\n",
    "3. Inheritance.\n",
    "4. Polymorphism."
   ]
  },
  {
   "cell_type": "markdown",
   "id": "07758e08",
   "metadata": {},
   "source": [
    "__Q3. Explain why the ____init_() function is used. Give a suitable example ?__\n",
    "\n",
    "__Ans)__ The __init__ function is a special method in Python that is called when an object of a class is created. It is commonly referred to as the \"constructor\" method.\n",
    "\n",
    "The main purpose of the __init__ function is to initialize the properties of the object when it is created. For example, you can use the __init__ function to set default values for the properties, or to pass in arguments that are used to initialize the properties. <br>\n",
    "__Note : If we dont provide working for constructor then pyhton complier automatically insert it at end__\n",
    "<br>\n",
    "__For example :__ <br>\n",
    "class Gondal2:<br>\n",
    "    def __init__(self,name,email):<br>\n",
    "        self.name=name<br>\n",
    "        self.email=email<br>\n",
    "        \n",
    "   def print_method(self):<br>\n",
    "       return self.name , self.email<br>\n",
    "\n",
    "In this example, the __init__ function takes two arguments: name, email. These arguments are used to initialize the properties of the object when it is created. <br>\n",
    "\n",
    "When you create an object of the Gondal class, you can pass in values for the properties: <br>\n",
    "Taha = Gondal2(\"Taha\",\"Taha123@gmail.com\")\n",
    "\n",
    "The __init__ function is called automatically when the object is created, and the values that you pass in are used to initialize the properties.\n"
   ]
  },
  {
   "cell_type": "markdown",
   "id": "44616fd0",
   "metadata": {},
   "source": [
    "__Q4. Why self is used in OOPs?__\n",
    "\n",
    "__Ans)__ The __self__ keyword is used to refer to the instance of an object. When you define a method in a class, the first argument to that method is usually self. This argument is automatically passed in when you call the method on an object, and it provides a reference to the instance of the object that the method is being called on.Using self in your methods allows you to access and modify the properties of the object."
   ]
  },
  {
   "cell_type": "markdown",
   "id": "fec0300d",
   "metadata": {},
   "source": [
    "__Q5. What is inheritance? Give an example for each type of inheritance ?__\n",
    "\n",
    "__Ans)__ It allows us to create new classes that are based on existing classes. The new class, known as the __subclass or derived class__, inherits all the properties and methods of the existing class, known as the base class or superclass.<br>\n",
    "\n",
    "Types of Inheritance : <br)\n",
    "\n",
    "1. Single Inheritance.\n",
    "2. Multiple Inheritance.\n",
    "3. Multilevel Inheritance.\n",
    "4. Hierarchical Inheritance. \n",
    "5. Hybrid Inheritance\n",
    "\n",
    "* __Single Inheritance__ : \n",
    "A derived class /subclass inherit from a single base class . E.g : A Car class inherit with vehicle class.\n",
    "\n",
    "* __Mutiple Inheritance__ : \n",
    "A subclass inherits from a base class, which in turn inherits from another base class. E.g: The SportsCar class inherits from the Car class, which in turn inherits from the Vehicle class.\n",
    "\n",
    "* __Multilevel Inheritance__ :\n",
    "A derived class/subclass inherits from multiple base classes. E.g: the Car class inherits from both the Engine class and the Chassis class.\n",
    "\n",
    "* __Hierarchical Inheritance__ :\n",
    "It is a type of inheritance in which one base class is inherited by multiple derived classes. This means that the derived classes inherit the attributes and behaviors of the base class, but can also add their own unique attributes and behaviors.\n",
    "E.g: We have Base class is Animal and inheritance class would be DOG , CAT , MONKEY etc.\n",
    "\n",
    "* __Hybrid Inheritance__ :\n",
    "Hybrid Inheritance is a combination of multiple inheritance types, usually a combination of multiple inheritance and single inheritance. In hybrid inheritance, a derived class can inherit from multiple base classes, but can also inherit attributes and behaviors from a single base class.\n",
    "E.g: <br>\n",
    "A Person class is defined with two attributes, name and age. The Employee and Student classes inherit from the Person class and add their own unique attributes. The TeachingAssistant class then inherits from both the Employee and Student classes, inheriting all the attributes and behaviors of the Person, Employee, and Student classes. An instance of the TeachingAssistant class is created and its attributes are set, demonstrating how a class can inherit from multiple base classes and access their attributes.\n"
   ]
  },
  {
   "cell_type": "markdown",
   "id": "5377bb7f",
   "metadata": {},
   "source": [
    "-------------------------------------------------------------------------------------------- __End__----------------------------------------------------------------------------------------------------------------"
   ]
  }
 ],
 "metadata": {
  "kernelspec": {
   "display_name": "Python 3 (ipykernel)",
   "language": "python",
   "name": "python3"
  },
  "language_info": {
   "codemirror_mode": {
    "name": "ipython",
    "version": 3
   },
   "file_extension": ".py",
   "mimetype": "text/x-python",
   "name": "python",
   "nbconvert_exporter": "python",
   "pygments_lexer": "ipython3",
   "version": "3.9.12"
  },
  "varInspector": {
   "cols": {
    "lenName": 16,
    "lenType": 16,
    "lenVar": 40
   },
   "kernels_config": {
    "python": {
     "delete_cmd_postfix": "",
     "delete_cmd_prefix": "del ",
     "library": "var_list.py",
     "varRefreshCmd": "print(var_dic_list())"
    },
    "r": {
     "delete_cmd_postfix": ") ",
     "delete_cmd_prefix": "rm(",
     "library": "var_list.r",
     "varRefreshCmd": "cat(var_dic_list()) "
    }
   },
   "types_to_exclude": [
    "module",
    "function",
    "builtin_function_or_method",
    "instance",
    "_Feature"
   ],
   "window_display": false
  }
 },
 "nbformat": 4,
 "nbformat_minor": 5
}
